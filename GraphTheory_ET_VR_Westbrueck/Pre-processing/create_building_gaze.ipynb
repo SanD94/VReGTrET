{
 "cells": [
  {
   "cell_type": "code",
   "execution_count": 1,
   "id": "c993230d-8706-4695-89a3-98a4f6f1b2fe",
   "metadata": {},
   "outputs": [
    {
     "name": "stderr",
     "output_type": "stream",
     "text": [
      "── \u001b[1mAttaching core tidyverse packages\u001b[22m ──────────────────────────────────────────────────────────────── tidyverse 2.0.0 ──\n",
      "\u001b[32m✔\u001b[39m \u001b[34mdplyr    \u001b[39m 1.1.4     \u001b[32m✔\u001b[39m \u001b[34mreadr    \u001b[39m 2.1.5\n",
      "\u001b[32m✔\u001b[39m \u001b[34mforcats  \u001b[39m 1.0.0     \u001b[32m✔\u001b[39m \u001b[34mstringr  \u001b[39m 1.5.1\n",
      "\u001b[32m✔\u001b[39m \u001b[34mggplot2  \u001b[39m 3.5.1     \u001b[32m✔\u001b[39m \u001b[34mtibble   \u001b[39m 3.2.1\n",
      "\u001b[32m✔\u001b[39m \u001b[34mlubridate\u001b[39m 1.9.3     \u001b[32m✔\u001b[39m \u001b[34mtidyr    \u001b[39m 1.3.1\n",
      "\u001b[32m✔\u001b[39m \u001b[34mpurrr    \u001b[39m 1.0.2     \n",
      "── \u001b[1mConflicts\u001b[22m ────────────────────────────────────────────────────────────────────────────────── tidyverse_conflicts() ──\n",
      "\u001b[31m✖\u001b[39m \u001b[34mdplyr\u001b[39m::\u001b[32mfilter()\u001b[39m  masks \u001b[34mstats\u001b[39m::filter()\n",
      "\u001b[31m✖\u001b[39m \u001b[34mpurrr\u001b[39m::\u001b[32mflatten()\u001b[39m masks \u001b[34mjsonlite\u001b[39m::flatten()\n",
      "\u001b[31m✖\u001b[39m \u001b[34mdplyr\u001b[39m::\u001b[32mlag()\u001b[39m     masks \u001b[34mstats\u001b[39m::lag()\n",
      "\u001b[36mℹ\u001b[39m Use the conflicted package (\u001b[3m\u001b[34m<http://conflicted.r-lib.org/>\u001b[39m\u001b[23m) to force all conflicts to become errors\n"
     ]
    }
   ],
   "source": [
    "library(jsonlite)\n",
    "library(tidyverse)\n",
    "# here library is not necessary as the data is big and in a different location"
   ]
  },
  {
   "cell_type": "code",
   "execution_count": 2,
   "id": "d8530175-8407-4665-b2c4-336c2ffa3f0c",
   "metadata": {},
   "outputs": [
    {
     "name": "stderr",
     "output_type": "stream",
     "text": [
      "Loading required package: sysfonts\n",
      "\n",
      "Loading required package: showtextdb\n",
      "\n"
     ]
    }
   ],
   "source": [
    "library(showtext)\n",
    "font_add_google(\"Lato\", \"lato\")\n",
    "showtext_auto()"
   ]
  },
  {
   "cell_type": "code",
   "execution_count": 3,
   "id": "65eaafc9-fde5-4506-9143-075b8a418060",
   "metadata": {},
   "outputs": [],
   "source": [
    "DATA_FOLDER <- \"/mnt/f/big-data/vr_data/Data/preprocessing-pipeline/interpolated-colliders\"\n",
    "DATA <- Sys.glob(file.path(DATA_FOLDER, \"*_interpolatedColliders_*.json\"))"
   ]
  },
  {
   "cell_type": "code",
   "execution_count": 75,
   "id": "a67f2986-d8e9-4bff-a2db-18c6beb9abc3",
   "metadata": {},
   "outputs": [],
   "source": [
    "get_buildings <- function(file_path = \"../additional_Files/building_collider_list.csv\") {\n",
    "    building_csv_file <- file_path\n",
    "    buildings <- read_csv(building_csv_file)\n",
    "    buildings <- buildings %>% \n",
    "                    select(`...1`, target_collider_name, \n",
    "                            transformed_collidercenter_x, \n",
    "                            transformed_collidercenter_y) %>%\n",
    "                    rename(\n",
    "                        ID = `...1` ,\n",
    "                        Name = target_collider_name,\n",
    "                        x = transformed_collidercenter_x,\n",
    "                        y = transformed_collidercenter_y\n",
    "                    ) %>%\n",
    "                    distinct(Name, .keep_all = TRUE)\n",
    "    buildings\n",
    "}\n",
    "\n",
    "get_building_counter <- function() {\n",
    "    buildings <- get_buildings()\n",
    "    building_counter <- buildings %>% pull(Name) %>% reduce(function (acc, cur) {\n",
    "            acc[[cur]] <- 0\n",
    "            acc\n",
    "        }, .init = list())\n",
    "    # noData and newSession should be interpreted as buildings for the analysis before generating the graph\n",
    "    building_counter[[\"noData\"]] <- 0\n",
    "    building_counter[[\"newSession\"]] <- 0\n",
    "    building_counter\n",
    "}"
   ]
  },
  {
   "cell_type": "code",
   "execution_count": 4,
   "id": "75ac1851-cc00-46f0-a90c-5edaddbf231f",
   "metadata": {},
   "outputs": [
    {
     "data": {
      "text/html": [
       "<style>\n",
       ".list-inline {list-style: none; margin:0; padding: 0}\n",
       ".list-inline>li {display: inline-block}\n",
       ".list-inline>li:not(:last-child)::after {content: \"\\00b7\"; padding: 0 .5ex}\n",
       "</style>\n",
       "<ol class=list-inline><li>'/mnt/f/big-data/vr_data/Data/preprocessing-pipeline/interpolated-colliders/2002_interpolatedColliders_5Sessions_WB.json'</li><li>'/mnt/f/big-data/vr_data/Data/preprocessing-pipeline/interpolated-colliders/2005_interpolatedColliders_5Sessions_WB.json'</li><li>'/mnt/f/big-data/vr_data/Data/preprocessing-pipeline/interpolated-colliders/2006_interpolatedColliders_5Sessions_WB.json'</li><li>'/mnt/f/big-data/vr_data/Data/preprocessing-pipeline/interpolated-colliders/2007_interpolatedColliders_5Sessions_WB.json'</li><li>'/mnt/f/big-data/vr_data/Data/preprocessing-pipeline/interpolated-colliders/2008_interpolatedColliders_5Sessions_WB.json'</li><li>'/mnt/f/big-data/vr_data/Data/preprocessing-pipeline/interpolated-colliders/2009_interpolatedColliders_5Sessions_WB.json'</li><li>'/mnt/f/big-data/vr_data/Data/preprocessing-pipeline/interpolated-colliders/2013_interpolatedColliders_5Sessions_WB.json'</li><li>'/mnt/f/big-data/vr_data/Data/preprocessing-pipeline/interpolated-colliders/2014_interpolatedColliders_5Sessions_WB.json'</li><li>'/mnt/f/big-data/vr_data/Data/preprocessing-pipeline/interpolated-colliders/2015_interpolatedColliders_5Sessions_WB.json'</li><li>'/mnt/f/big-data/vr_data/Data/preprocessing-pipeline/interpolated-colliders/2016_interpolatedColliders_5Sessions_WB.json'</li><li>'/mnt/f/big-data/vr_data/Data/preprocessing-pipeline/interpolated-colliders/2017_interpolatedColliders_5Sessions_WB.json'</li><li>'/mnt/f/big-data/vr_data/Data/preprocessing-pipeline/interpolated-colliders/2018_interpolatedColliders_5Sessions_WB.json'</li><li>'/mnt/f/big-data/vr_data/Data/preprocessing-pipeline/interpolated-colliders/2020_interpolatedColliders_5Sessions_WB.json'</li><li>'/mnt/f/big-data/vr_data/Data/preprocessing-pipeline/interpolated-colliders/2021_interpolatedColliders_5Sessions_WB.json'</li><li>'/mnt/f/big-data/vr_data/Data/preprocessing-pipeline/interpolated-colliders/2024_interpolatedColliders_5Sessions_WB.json'</li><li>'/mnt/f/big-data/vr_data/Data/preprocessing-pipeline/interpolated-colliders/2025_interpolatedColliders_5Sessions_WB.json'</li></ol>\n"
      ],
      "text/latex": [
       "\\begin{enumerate*}\n",
       "\\item '/mnt/f/big-data/vr\\_data/Data/preprocessing-pipeline/interpolated-colliders/2002\\_interpolatedColliders\\_5Sessions\\_WB.json'\n",
       "\\item '/mnt/f/big-data/vr\\_data/Data/preprocessing-pipeline/interpolated-colliders/2005\\_interpolatedColliders\\_5Sessions\\_WB.json'\n",
       "\\item '/mnt/f/big-data/vr\\_data/Data/preprocessing-pipeline/interpolated-colliders/2006\\_interpolatedColliders\\_5Sessions\\_WB.json'\n",
       "\\item '/mnt/f/big-data/vr\\_data/Data/preprocessing-pipeline/interpolated-colliders/2007\\_interpolatedColliders\\_5Sessions\\_WB.json'\n",
       "\\item '/mnt/f/big-data/vr\\_data/Data/preprocessing-pipeline/interpolated-colliders/2008\\_interpolatedColliders\\_5Sessions\\_WB.json'\n",
       "\\item '/mnt/f/big-data/vr\\_data/Data/preprocessing-pipeline/interpolated-colliders/2009\\_interpolatedColliders\\_5Sessions\\_WB.json'\n",
       "\\item '/mnt/f/big-data/vr\\_data/Data/preprocessing-pipeline/interpolated-colliders/2013\\_interpolatedColliders\\_5Sessions\\_WB.json'\n",
       "\\item '/mnt/f/big-data/vr\\_data/Data/preprocessing-pipeline/interpolated-colliders/2014\\_interpolatedColliders\\_5Sessions\\_WB.json'\n",
       "\\item '/mnt/f/big-data/vr\\_data/Data/preprocessing-pipeline/interpolated-colliders/2015\\_interpolatedColliders\\_5Sessions\\_WB.json'\n",
       "\\item '/mnt/f/big-data/vr\\_data/Data/preprocessing-pipeline/interpolated-colliders/2016\\_interpolatedColliders\\_5Sessions\\_WB.json'\n",
       "\\item '/mnt/f/big-data/vr\\_data/Data/preprocessing-pipeline/interpolated-colliders/2017\\_interpolatedColliders\\_5Sessions\\_WB.json'\n",
       "\\item '/mnt/f/big-data/vr\\_data/Data/preprocessing-pipeline/interpolated-colliders/2018\\_interpolatedColliders\\_5Sessions\\_WB.json'\n",
       "\\item '/mnt/f/big-data/vr\\_data/Data/preprocessing-pipeline/interpolated-colliders/2020\\_interpolatedColliders\\_5Sessions\\_WB.json'\n",
       "\\item '/mnt/f/big-data/vr\\_data/Data/preprocessing-pipeline/interpolated-colliders/2021\\_interpolatedColliders\\_5Sessions\\_WB.json'\n",
       "\\item '/mnt/f/big-data/vr\\_data/Data/preprocessing-pipeline/interpolated-colliders/2024\\_interpolatedColliders\\_5Sessions\\_WB.json'\n",
       "\\item '/mnt/f/big-data/vr\\_data/Data/preprocessing-pipeline/interpolated-colliders/2025\\_interpolatedColliders\\_5Sessions\\_WB.json'\n",
       "\\end{enumerate*}\n"
      ],
      "text/markdown": [
       "1. '/mnt/f/big-data/vr_data/Data/preprocessing-pipeline/interpolated-colliders/2002_interpolatedColliders_5Sessions_WB.json'\n",
       "2. '/mnt/f/big-data/vr_data/Data/preprocessing-pipeline/interpolated-colliders/2005_interpolatedColliders_5Sessions_WB.json'\n",
       "3. '/mnt/f/big-data/vr_data/Data/preprocessing-pipeline/interpolated-colliders/2006_interpolatedColliders_5Sessions_WB.json'\n",
       "4. '/mnt/f/big-data/vr_data/Data/preprocessing-pipeline/interpolated-colliders/2007_interpolatedColliders_5Sessions_WB.json'\n",
       "5. '/mnt/f/big-data/vr_data/Data/preprocessing-pipeline/interpolated-colliders/2008_interpolatedColliders_5Sessions_WB.json'\n",
       "6. '/mnt/f/big-data/vr_data/Data/preprocessing-pipeline/interpolated-colliders/2009_interpolatedColliders_5Sessions_WB.json'\n",
       "7. '/mnt/f/big-data/vr_data/Data/preprocessing-pipeline/interpolated-colliders/2013_interpolatedColliders_5Sessions_WB.json'\n",
       "8. '/mnt/f/big-data/vr_data/Data/preprocessing-pipeline/interpolated-colliders/2014_interpolatedColliders_5Sessions_WB.json'\n",
       "9. '/mnt/f/big-data/vr_data/Data/preprocessing-pipeline/interpolated-colliders/2015_interpolatedColliders_5Sessions_WB.json'\n",
       "10. '/mnt/f/big-data/vr_data/Data/preprocessing-pipeline/interpolated-colliders/2016_interpolatedColliders_5Sessions_WB.json'\n",
       "11. '/mnt/f/big-data/vr_data/Data/preprocessing-pipeline/interpolated-colliders/2017_interpolatedColliders_5Sessions_WB.json'\n",
       "12. '/mnt/f/big-data/vr_data/Data/preprocessing-pipeline/interpolated-colliders/2018_interpolatedColliders_5Sessions_WB.json'\n",
       "13. '/mnt/f/big-data/vr_data/Data/preprocessing-pipeline/interpolated-colliders/2020_interpolatedColliders_5Sessions_WB.json'\n",
       "14. '/mnt/f/big-data/vr_data/Data/preprocessing-pipeline/interpolated-colliders/2021_interpolatedColliders_5Sessions_WB.json'\n",
       "15. '/mnt/f/big-data/vr_data/Data/preprocessing-pipeline/interpolated-colliders/2024_interpolatedColliders_5Sessions_WB.json'\n",
       "16. '/mnt/f/big-data/vr_data/Data/preprocessing-pipeline/interpolated-colliders/2025_interpolatedColliders_5Sessions_WB.json'\n",
       "\n",
       "\n"
      ],
      "text/plain": [
       " [1] \"/mnt/f/big-data/vr_data/Data/preprocessing-pipeline/interpolated-colliders/2002_interpolatedColliders_5Sessions_WB.json\"\n",
       " [2] \"/mnt/f/big-data/vr_data/Data/preprocessing-pipeline/interpolated-colliders/2005_interpolatedColliders_5Sessions_WB.json\"\n",
       " [3] \"/mnt/f/big-data/vr_data/Data/preprocessing-pipeline/interpolated-colliders/2006_interpolatedColliders_5Sessions_WB.json\"\n",
       " [4] \"/mnt/f/big-data/vr_data/Data/preprocessing-pipeline/interpolated-colliders/2007_interpolatedColliders_5Sessions_WB.json\"\n",
       " [5] \"/mnt/f/big-data/vr_data/Data/preprocessing-pipeline/interpolated-colliders/2008_interpolatedColliders_5Sessions_WB.json\"\n",
       " [6] \"/mnt/f/big-data/vr_data/Data/preprocessing-pipeline/interpolated-colliders/2009_interpolatedColliders_5Sessions_WB.json\"\n",
       " [7] \"/mnt/f/big-data/vr_data/Data/preprocessing-pipeline/interpolated-colliders/2013_interpolatedColliders_5Sessions_WB.json\"\n",
       " [8] \"/mnt/f/big-data/vr_data/Data/preprocessing-pipeline/interpolated-colliders/2014_interpolatedColliders_5Sessions_WB.json\"\n",
       " [9] \"/mnt/f/big-data/vr_data/Data/preprocessing-pipeline/interpolated-colliders/2015_interpolatedColliders_5Sessions_WB.json\"\n",
       "[10] \"/mnt/f/big-data/vr_data/Data/preprocessing-pipeline/interpolated-colliders/2016_interpolatedColliders_5Sessions_WB.json\"\n",
       "[11] \"/mnt/f/big-data/vr_data/Data/preprocessing-pipeline/interpolated-colliders/2017_interpolatedColliders_5Sessions_WB.json\"\n",
       "[12] \"/mnt/f/big-data/vr_data/Data/preprocessing-pipeline/interpolated-colliders/2018_interpolatedColliders_5Sessions_WB.json\"\n",
       "[13] \"/mnt/f/big-data/vr_data/Data/preprocessing-pipeline/interpolated-colliders/2020_interpolatedColliders_5Sessions_WB.json\"\n",
       "[14] \"/mnt/f/big-data/vr_data/Data/preprocessing-pipeline/interpolated-colliders/2021_interpolatedColliders_5Sessions_WB.json\"\n",
       "[15] \"/mnt/f/big-data/vr_data/Data/preprocessing-pipeline/interpolated-colliders/2024_interpolatedColliders_5Sessions_WB.json\"\n",
       "[16] \"/mnt/f/big-data/vr_data/Data/preprocessing-pipeline/interpolated-colliders/2025_interpolatedColliders_5Sessions_WB.json\""
      ]
     },
     "metadata": {},
     "output_type": "display_data"
    }
   ],
   "source": [
    "DATA"
   ]
  },
  {
   "cell_type": "code",
   "execution_count": 18,
   "id": "2aadcca2-30cd-47af-bae1-cb94bbf3af02",
   "metadata": {},
   "outputs": [
    {
     "data": {
      "text/html": [
       "'/mnt/f/big-data/vr_data/Data/preprocessing-pipeline/interpolated-colliders/2002_interpolatedColliders_5Sessions_WB.json'"
      ],
      "text/latex": [
       "'/mnt/f/big-data/vr\\_data/Data/preprocessing-pipeline/interpolated-colliders/2002\\_interpolatedColliders\\_5Sessions\\_WB.json'"
      ],
      "text/markdown": [
       "'/mnt/f/big-data/vr_data/Data/preprocessing-pipeline/interpolated-colliders/2002_interpolatedColliders_5Sessions_WB.json'"
      ],
      "text/plain": [
       "[1] \"/mnt/f/big-data/vr_data/Data/preprocessing-pipeline/interpolated-colliders/2002_interpolatedColliders_5Sessions_WB.json\""
      ]
     },
     "metadata": {},
     "output_type": "display_data"
    }
   ],
   "source": [
    "data_file <- DATA[1]\n",
    "data_file"
   ]
  },
  {
   "cell_type": "code",
   "execution_count": 9,
   "id": "ed2ac0ad-e573-407c-9ef4-cbf3ff622d2b",
   "metadata": {},
   "outputs": [],
   "source": [
    "file_name <- basename(data_file)\n",
    "cur_p <- str_split(file_name, \"_\")[[1]][1] %>% as.integer()\n",
    "pid <- cur_p\n",
    "group <- groups[pids == pid]\n",
    "\n",
    "\n",
    "# json data processing\n",
    "cur_data <- read_json(data_file)\n"
   ]
  },
  {
   "cell_type": "code",
   "execution_count": 76,
   "id": "79f152ff-71e6-4ef2-acd7-f90de94f7484",
   "metadata": {},
   "outputs": [
    {
     "name": "stderr",
     "output_type": "stream",
     "text": [
      "\u001b[1m\u001b[22mNew names:\n",
      "\u001b[36m•\u001b[39m `` -> `...1`\n",
      "\u001b[1mRows: \u001b[22m\u001b[34m254\u001b[39m \u001b[1mColumns: \u001b[22m\u001b[34m8\u001b[39m\n",
      "\u001b[36m──\u001b[39m \u001b[1mColumn specification\u001b[22m \u001b[36m────────────────────────────────────────────────────────────────────────────────────────────────\u001b[39m\n",
      "\u001b[1mDelimiter:\u001b[22m \",\"\n",
      "\u001b[31mchr\u001b[39m (2): source_collider_name, target_collider_name\n",
      "\u001b[32mdbl\u001b[39m (6): ...1, ColliderBoundsCenter.x, ColliderBoundsCenter.y, ColliderBound...\n",
      "\n",
      "\u001b[36mℹ\u001b[39m Use `spec()` to retrieve the full column specification for this data.\n",
      "\u001b[36mℹ\u001b[39m Specify the column types or set `show_col_types = FALSE` to quiet this message.\n"
     ]
    }
   ],
   "source": [
    "building_counter <- get_building_counter()"
   ]
  },
  {
   "cell_type": "code",
   "execution_count": 19,
   "id": "8a0fa4d2-4c20-49fe-934b-915c2b7f1eb5",
   "metadata": {},
   "outputs": [],
   "source": [
    "interpolated_data <- map(cur_data, function(x) x$hitObjectColliderName) %>% unlist()\n",
    "durations <- map(cur_data, function(x) x$clusterDuration) %>% unlist()"
   ]
  },
  {
   "cell_type": "code",
   "execution_count": 54,
   "id": "fc845ebd-61a7-42f6-a0a7-fe719f76d1c5",
   "metadata": {},
   "outputs": [],
   "source": [
    "# remove NH from the data\n",
    "nh_index <- interpolated_data == \"NH\"\n",
    "interpolated_data <- interpolated_data[!nh_index]\n",
    "durations <- durations[!nh_index]"
   ]
  },
  {
   "cell_type": "code",
   "execution_count": 52,
   "id": "fa28979d-cecf-4be2-b5a2-324d832496ea",
   "metadata": {},
   "outputs": [],
   "source": [
    "pids <- c(2002, 2005, 2008, 2009, 2015, 2016, 2017, 2018, 2024, 2006, 2007, 2013, 2014, 2021, 2020, 2025)\n",
    "groups <- c(\"Control\",\"Control\",\"Control\",\"Control\",\"Control\",\"Control\",\"Control\",\"Control\",\"Control\", \"Glaucoma\",\"Glaucoma\",\"Glaucoma\",\"Glaucoma\",\"Glaucoma\",\"Glaucoma\", \"Glaucoma\")"
   ]
  },
  {
   "cell_type": "code",
   "execution_count": 64,
   "id": "b0d3ee27-d451-4647-aecc-cb250e950200",
   "metadata": {},
   "outputs": [],
   "source": [
    "pid <- cur_p\n",
    "group <- groups[pids == pid]\n",
    "noisy <- durations < 250"
   ]
  },
  {
   "cell_type": "code",
   "execution_count": 77,
   "id": "07484ab5-155c-4a01-a35f-9db770aacef4",
   "metadata": {},
   "outputs": [],
   "source": [
    "acc_data <- interpolated_data %>% reduce(function(acc, cur_building) {\n",
    "    counter <- acc[[1]]\n",
    "    data_table <- acc[[2]]\n",
    "\n",
    "    counter[[cur_building]] <- counter[[cur_building]] + 1\n",
    "    cur_row <- tibble(\n",
    "            building = cur_building,\n",
    "            view_count = counter[[cur_building]]\n",
    "        )\n",
    "    \n",
    "    list(counter, bind_rows(data_table, cur_row))\n",
    "}, .init = list(\n",
    "        building_counter, \n",
    "        tibble(\n",
    "            building = character(),\n",
    "            view_count = numeric()\n",
    "        )\n",
    "    )\n",
    ")\n",
    "cur_data_tibble <- acc_data[[2]]"
   ]
  },
  {
   "cell_type": "code",
   "execution_count": 78,
   "id": "da32f043-d3fe-403c-8a81-b4af345e0c46",
   "metadata": {},
   "outputs": [
    {
     "data": {
      "text/html": [
       "4442"
      ],
      "text/latex": [
       "4442"
      ],
      "text/markdown": [
       "4442"
      ],
      "text/plain": [
       "[1] 4442"
      ]
     },
     "metadata": {},
     "output_type": "display_data"
    },
    {
     "data": {
      "text/html": [
       "4442"
      ],
      "text/latex": [
       "4442"
      ],
      "text/markdown": [
       "4442"
      ],
      "text/plain": [
       "[1] 4442"
      ]
     },
     "metadata": {},
     "output_type": "display_data"
    },
    {
     "data": {
      "text/html": [
       "4442"
      ],
      "text/latex": [
       "4442"
      ],
      "text/markdown": [
       "4442"
      ],
      "text/plain": [
       "[1] 4442"
      ]
     },
     "metadata": {},
     "output_type": "display_data"
    },
    {
     "data": {
      "text/html": [
       "4442"
      ],
      "text/latex": [
       "4442"
      ],
      "text/markdown": [
       "4442"
      ],
      "text/plain": [
       "[1] 4442"
      ]
     },
     "metadata": {},
     "output_type": "display_data"
    }
   ],
   "source": [
    "length(noisy)\n",
    "length(interpolated_data)\n",
    "length(durations)\n",
    "nrow(cur_data_tibble)"
   ]
  },
  {
   "cell_type": "code",
   "execution_count": null,
   "id": "37c261b1-a93a-413c-86ac-a00053f0f8f7",
   "metadata": {},
   "outputs": [],
   "source": []
  }
 ],
 "metadata": {
  "kernelspec": {
   "display_name": "R",
   "language": "R",
   "name": "ir"
  },
  "language_info": {
   "codemirror_mode": "r",
   "file_extension": ".r",
   "mimetype": "text/x-r-source",
   "name": "R",
   "pygments_lexer": "r",
   "version": "4.3.1"
  }
 },
 "nbformat": 4,
 "nbformat_minor": 5
}
