{
 "cells": [
  {
   "cell_type": "code",
   "execution_count": 1,
   "id": "d757df6d-f2c9-4c6b-9106-713497a3459c",
   "metadata": {},
   "outputs": [
    {
     "name": "stderr",
     "output_type": "stream",
     "text": [
      "── \u001b[1mAttaching core tidyverse packages\u001b[22m ──────────────────────────────────────────────────────────────── tidyverse 2.0.0 ──\n",
      "\u001b[32m✔\u001b[39m \u001b[34mdplyr    \u001b[39m 1.1.4     \u001b[32m✔\u001b[39m \u001b[34mreadr    \u001b[39m 2.1.5\n",
      "\u001b[32m✔\u001b[39m \u001b[34mforcats  \u001b[39m 1.0.0     \u001b[32m✔\u001b[39m \u001b[34mstringr  \u001b[39m 1.5.1\n",
      "\u001b[32m✔\u001b[39m \u001b[34mggplot2  \u001b[39m 3.5.1     \u001b[32m✔\u001b[39m \u001b[34mtibble   \u001b[39m 3.2.1\n",
      "\u001b[32m✔\u001b[39m \u001b[34mlubridate\u001b[39m 1.9.3     \u001b[32m✔\u001b[39m \u001b[34mtidyr    \u001b[39m 1.3.1\n",
      "\u001b[32m✔\u001b[39m \u001b[34mpurrr    \u001b[39m 1.0.2     \n",
      "── \u001b[1mConflicts\u001b[22m ────────────────────────────────────────────────────────────────────────────────── tidyverse_conflicts() ──\n",
      "\u001b[31m✖\u001b[39m \u001b[34mdplyr\u001b[39m::\u001b[32mfilter()\u001b[39m  masks \u001b[34mstats\u001b[39m::filter()\n",
      "\u001b[31m✖\u001b[39m \u001b[34mpurrr\u001b[39m::\u001b[32mflatten()\u001b[39m masks \u001b[34mjsonlite\u001b[39m::flatten()\n",
      "\u001b[31m✖\u001b[39m \u001b[34mdplyr\u001b[39m::\u001b[32mlag()\u001b[39m     masks \u001b[34mstats\u001b[39m::lag()\n",
      "\u001b[36mℹ\u001b[39m Use the conflicted package (\u001b[3m\u001b[34m<http://conflicted.r-lib.org/>\u001b[39m\u001b[23m) to force all conflicts to become errors\n"
     ]
    }
   ],
   "source": [
    "library(jsonlite)\n",
    "library(tidyverse)\n",
    "# here library is not necessary as the data is big and in a different location"
   ]
  },
  {
   "cell_type": "code",
   "execution_count": 2,
   "id": "99248948-9d34-42dc-8b0f-052005003a31",
   "metadata": {},
   "outputs": [],
   "source": [
    "DATA_FOLDER <- \"/mnt/f/big-data/vr_data/Data/preprocessing-pipeline/graphs\"\n",
    "DATA <- Sys.glob(file.path(DATA_FOLDER, \"*_subgraphs_*.json\"))"
   ]
  },
  {
   "cell_type": "code",
   "execution_count": 3,
   "id": "bd44a301-41a7-4b45-a865-557cedb22df9",
   "metadata": {},
   "outputs": [
    {
     "data": {
      "text/html": [
       "<style>\n",
       ".list-inline {list-style: none; margin:0; padding: 0}\n",
       ".list-inline>li {display: inline-block}\n",
       ".list-inline>li:not(:last-child)::after {content: \"\\00b7\"; padding: 0 .5ex}\n",
       "</style>\n",
       "<ol class=list-inline><li>'/mnt/f/big-data/vr_data/Data/preprocessing-pipeline/graphs/2002_subgraphs_WB.json'</li><li>'/mnt/f/big-data/vr_data/Data/preprocessing-pipeline/graphs/2005_subgraphs_WB.json'</li><li>'/mnt/f/big-data/vr_data/Data/preprocessing-pipeline/graphs/2006_subgraphs_WB.json'</li><li>'/mnt/f/big-data/vr_data/Data/preprocessing-pipeline/graphs/2007_subgraphs_WB.json'</li><li>'/mnt/f/big-data/vr_data/Data/preprocessing-pipeline/graphs/2008_subgraphs_WB.json'</li><li>'/mnt/f/big-data/vr_data/Data/preprocessing-pipeline/graphs/2009_subgraphs_WB.json'</li><li>'/mnt/f/big-data/vr_data/Data/preprocessing-pipeline/graphs/2013_subgraphs_WB.json'</li><li>'/mnt/f/big-data/vr_data/Data/preprocessing-pipeline/graphs/2014_subgraphs_WB.json'</li><li>'/mnt/f/big-data/vr_data/Data/preprocessing-pipeline/graphs/2015_subgraphs_WB.json'</li><li>'/mnt/f/big-data/vr_data/Data/preprocessing-pipeline/graphs/2016_subgraphs_WB.json'</li><li>'/mnt/f/big-data/vr_data/Data/preprocessing-pipeline/graphs/2017_subgraphs_WB.json'</li><li>'/mnt/f/big-data/vr_data/Data/preprocessing-pipeline/graphs/2018_subgraphs_WB.json'</li><li>'/mnt/f/big-data/vr_data/Data/preprocessing-pipeline/graphs/2020_subgraphs_WB.json'</li><li>'/mnt/f/big-data/vr_data/Data/preprocessing-pipeline/graphs/2021_subgraphs_WB.json'</li><li>'/mnt/f/big-data/vr_data/Data/preprocessing-pipeline/graphs/2024_subgraphs_WB.json'</li><li>'/mnt/f/big-data/vr_data/Data/preprocessing-pipeline/graphs/2025_subgraphs_WB.json'</li></ol>\n"
      ],
      "text/latex": [
       "\\begin{enumerate*}\n",
       "\\item '/mnt/f/big-data/vr\\_data/Data/preprocessing-pipeline/graphs/2002\\_subgraphs\\_WB.json'\n",
       "\\item '/mnt/f/big-data/vr\\_data/Data/preprocessing-pipeline/graphs/2005\\_subgraphs\\_WB.json'\n",
       "\\item '/mnt/f/big-data/vr\\_data/Data/preprocessing-pipeline/graphs/2006\\_subgraphs\\_WB.json'\n",
       "\\item '/mnt/f/big-data/vr\\_data/Data/preprocessing-pipeline/graphs/2007\\_subgraphs\\_WB.json'\n",
       "\\item '/mnt/f/big-data/vr\\_data/Data/preprocessing-pipeline/graphs/2008\\_subgraphs\\_WB.json'\n",
       "\\item '/mnt/f/big-data/vr\\_data/Data/preprocessing-pipeline/graphs/2009\\_subgraphs\\_WB.json'\n",
       "\\item '/mnt/f/big-data/vr\\_data/Data/preprocessing-pipeline/graphs/2013\\_subgraphs\\_WB.json'\n",
       "\\item '/mnt/f/big-data/vr\\_data/Data/preprocessing-pipeline/graphs/2014\\_subgraphs\\_WB.json'\n",
       "\\item '/mnt/f/big-data/vr\\_data/Data/preprocessing-pipeline/graphs/2015\\_subgraphs\\_WB.json'\n",
       "\\item '/mnt/f/big-data/vr\\_data/Data/preprocessing-pipeline/graphs/2016\\_subgraphs\\_WB.json'\n",
       "\\item '/mnt/f/big-data/vr\\_data/Data/preprocessing-pipeline/graphs/2017\\_subgraphs\\_WB.json'\n",
       "\\item '/mnt/f/big-data/vr\\_data/Data/preprocessing-pipeline/graphs/2018\\_subgraphs\\_WB.json'\n",
       "\\item '/mnt/f/big-data/vr\\_data/Data/preprocessing-pipeline/graphs/2020\\_subgraphs\\_WB.json'\n",
       "\\item '/mnt/f/big-data/vr\\_data/Data/preprocessing-pipeline/graphs/2021\\_subgraphs\\_WB.json'\n",
       "\\item '/mnt/f/big-data/vr\\_data/Data/preprocessing-pipeline/graphs/2024\\_subgraphs\\_WB.json'\n",
       "\\item '/mnt/f/big-data/vr\\_data/Data/preprocessing-pipeline/graphs/2025\\_subgraphs\\_WB.json'\n",
       "\\end{enumerate*}\n"
      ],
      "text/markdown": [
       "1. '/mnt/f/big-data/vr_data/Data/preprocessing-pipeline/graphs/2002_subgraphs_WB.json'\n",
       "2. '/mnt/f/big-data/vr_data/Data/preprocessing-pipeline/graphs/2005_subgraphs_WB.json'\n",
       "3. '/mnt/f/big-data/vr_data/Data/preprocessing-pipeline/graphs/2006_subgraphs_WB.json'\n",
       "4. '/mnt/f/big-data/vr_data/Data/preprocessing-pipeline/graphs/2007_subgraphs_WB.json'\n",
       "5. '/mnt/f/big-data/vr_data/Data/preprocessing-pipeline/graphs/2008_subgraphs_WB.json'\n",
       "6. '/mnt/f/big-data/vr_data/Data/preprocessing-pipeline/graphs/2009_subgraphs_WB.json'\n",
       "7. '/mnt/f/big-data/vr_data/Data/preprocessing-pipeline/graphs/2013_subgraphs_WB.json'\n",
       "8. '/mnt/f/big-data/vr_data/Data/preprocessing-pipeline/graphs/2014_subgraphs_WB.json'\n",
       "9. '/mnt/f/big-data/vr_data/Data/preprocessing-pipeline/graphs/2015_subgraphs_WB.json'\n",
       "10. '/mnt/f/big-data/vr_data/Data/preprocessing-pipeline/graphs/2016_subgraphs_WB.json'\n",
       "11. '/mnt/f/big-data/vr_data/Data/preprocessing-pipeline/graphs/2017_subgraphs_WB.json'\n",
       "12. '/mnt/f/big-data/vr_data/Data/preprocessing-pipeline/graphs/2018_subgraphs_WB.json'\n",
       "13. '/mnt/f/big-data/vr_data/Data/preprocessing-pipeline/graphs/2020_subgraphs_WB.json'\n",
       "14. '/mnt/f/big-data/vr_data/Data/preprocessing-pipeline/graphs/2021_subgraphs_WB.json'\n",
       "15. '/mnt/f/big-data/vr_data/Data/preprocessing-pipeline/graphs/2024_subgraphs_WB.json'\n",
       "16. '/mnt/f/big-data/vr_data/Data/preprocessing-pipeline/graphs/2025_subgraphs_WB.json'\n",
       "\n",
       "\n"
      ],
      "text/plain": [
       " [1] \"/mnt/f/big-data/vr_data/Data/preprocessing-pipeline/graphs/2002_subgraphs_WB.json\"\n",
       " [2] \"/mnt/f/big-data/vr_data/Data/preprocessing-pipeline/graphs/2005_subgraphs_WB.json\"\n",
       " [3] \"/mnt/f/big-data/vr_data/Data/preprocessing-pipeline/graphs/2006_subgraphs_WB.json\"\n",
       " [4] \"/mnt/f/big-data/vr_data/Data/preprocessing-pipeline/graphs/2007_subgraphs_WB.json\"\n",
       " [5] \"/mnt/f/big-data/vr_data/Data/preprocessing-pipeline/graphs/2008_subgraphs_WB.json\"\n",
       " [6] \"/mnt/f/big-data/vr_data/Data/preprocessing-pipeline/graphs/2009_subgraphs_WB.json\"\n",
       " [7] \"/mnt/f/big-data/vr_data/Data/preprocessing-pipeline/graphs/2013_subgraphs_WB.json\"\n",
       " [8] \"/mnt/f/big-data/vr_data/Data/preprocessing-pipeline/graphs/2014_subgraphs_WB.json\"\n",
       " [9] \"/mnt/f/big-data/vr_data/Data/preprocessing-pipeline/graphs/2015_subgraphs_WB.json\"\n",
       "[10] \"/mnt/f/big-data/vr_data/Data/preprocessing-pipeline/graphs/2016_subgraphs_WB.json\"\n",
       "[11] \"/mnt/f/big-data/vr_data/Data/preprocessing-pipeline/graphs/2017_subgraphs_WB.json\"\n",
       "[12] \"/mnt/f/big-data/vr_data/Data/preprocessing-pipeline/graphs/2018_subgraphs_WB.json\"\n",
       "[13] \"/mnt/f/big-data/vr_data/Data/preprocessing-pipeline/graphs/2020_subgraphs_WB.json\"\n",
       "[14] \"/mnt/f/big-data/vr_data/Data/preprocessing-pipeline/graphs/2021_subgraphs_WB.json\"\n",
       "[15] \"/mnt/f/big-data/vr_data/Data/preprocessing-pipeline/graphs/2024_subgraphs_WB.json\"\n",
       "[16] \"/mnt/f/big-data/vr_data/Data/preprocessing-pipeline/graphs/2025_subgraphs_WB.json\""
      ]
     },
     "metadata": {},
     "output_type": "display_data"
    }
   ],
   "source": [
    "DATA"
   ]
  },
  {
   "cell_type": "code",
   "execution_count": 4,
   "id": "33a6320e-6238-4826-8f33-426363cd019c",
   "metadata": {},
   "outputs": [],
   "source": [
    "cur_data <- read_json(DATA[1])"
   ]
  },
  {
   "cell_type": "code",
   "execution_count": 5,
   "id": "02322458-6253-4b08-bdf6-c9fb6a6c3fcc",
   "metadata": {},
   "outputs": [],
   "source": [
    "pids <- c(2002, 2005, 2008, 2009, 2015, 2016, 2017, 2018, 2024, 2006, 2007, 2013, 2014, 2021, 2020, 2025)\n",
    "groups <- c(\"Control\",\"Control\",\"Control\",\"Control\",\"Control\",\"Control\",\"Control\",\"Control\",\"Control\", \"Glaucoma\",\"Glaucoma\",\"Glaucoma\",\"Glaucoma\",\"Glaucoma\",\"Glaucoma\", \"Glaucoma\")"
   ]
  },
  {
   "cell_type": "code",
   "execution_count": 6,
   "id": "388bd3c5-f98f-439a-a42f-424f52f30b41",
   "metadata": {},
   "outputs": [],
   "source": [
    "node_names <- map(cur_data$G$Nodes, function(x) x$Name) %>% unlist()\n",
    "node_names <- c('PID', 'Group', node_names)"
   ]
  },
  {
   "cell_type": "code",
   "execution_count": 7,
   "id": "81bb41fe-e67c-4a6b-8c48-0f2db0fb8173",
   "metadata": {},
   "outputs": [],
   "source": [
    "dummy_vals <- matrix(0, length(pids), length(node_names))\n",
    "colnames(dummy_vals) <- node_names"
   ]
  },
  {
   "cell_type": "code",
   "execution_count": 8,
   "id": "eaad5f95-d54c-4da9-931c-b84eb1a5a1cc",
   "metadata": {},
   "outputs": [],
   "source": [
    "i <- 1\n",
    "for (data_file in DATA) {\n",
    "    file_name <- basename(data_file)\n",
    "    cur_p <- str_split(file_name, \"_\")[[1]][1] %>% as.integer()\n",
    "    dummy_vals[i, \"PID\"] <- cur_p\n",
    "    \n",
    "    cur_g <- groups[which(pids == cur_p)]\n",
    "    dummy_vals[i, \"Group\"] <- cur_g == \"Control\"\n",
    "\n",
    "    # json data processing\n",
    "    cur_data <- read_json(data_file)\n",
    "    edges <- map(cur_data$G$Edges, function(x) x$EndNodes)\n",
    "    for(edge in edges) {\n",
    "        dummy_vals[i, edge[[1]]] <- dummy_vals[i, edge[[1]]] + 1\n",
    "        dummy_vals[i, edge[[2]]] <- dummy_vals[i, edge[[2]]] + 1\n",
    "    }\n",
    "    i <- i + 1\n",
    "}"
   ]
  },
  {
   "cell_type": "code",
   "execution_count": 9,
   "id": "7604f867-9584-417f-9411-3668ba53b470",
   "metadata": {},
   "outputs": [],
   "source": [
    "g_table <- as_tibble(dummy_vals)\n",
    "g_table <- g_table %>% mutate(across(c(PID, Group), factor))\n",
    "g_table <- g_table %>% mutate(across(-c(PID, Group), as.integer))\n",
    "g_table <- g_table %>% mutate(Group = fct_recode(Group, Control = \"1\", Glaucoma = \"0\"))"
   ]
  },
  {
   "cell_type": "code",
   "execution_count": 10,
   "id": "9bf24885-847c-451a-af72-9057d4e85543",
   "metadata": {},
   "outputs": [
    {
     "data": {
      "text/html": [
       "<table class=\"dataframe\">\n",
       "<caption>A tibble: 16 × 246</caption>\n",
       "<thead>\n",
       "\t<tr><th scope=col>PID</th><th scope=col>Group</th><th scope=col>Building_100</th><th scope=col>Building_101</th><th scope=col>Building_102</th><th scope=col>Building_103</th><th scope=col>Building_104</th><th scope=col>Building_105</th><th scope=col>Building_106</th><th scope=col>Building_107</th><th scope=col>⋯</th><th scope=col>TaskBuilding_53</th><th scope=col>TaskBuilding_54</th><th scope=col>TaskBuilding_55</th><th scope=col>TaskBuilding_6</th><th scope=col>TaskBuilding_7</th><th scope=col>TaskBuilding_8</th><th scope=col>TaskBuilding_9</th><th scope=col>Windmill-TaskBuilding_10_1</th><th scope=col>crane_1</th><th scope=col>crane_2</th></tr>\n",
       "\t<tr><th scope=col>&lt;fct&gt;</th><th scope=col>&lt;fct&gt;</th><th scope=col>&lt;int&gt;</th><th scope=col>&lt;int&gt;</th><th scope=col>&lt;int&gt;</th><th scope=col>&lt;int&gt;</th><th scope=col>&lt;int&gt;</th><th scope=col>&lt;int&gt;</th><th scope=col>&lt;int&gt;</th><th scope=col>&lt;int&gt;</th><th scope=col>⋯</th><th scope=col>&lt;int&gt;</th><th scope=col>&lt;int&gt;</th><th scope=col>&lt;int&gt;</th><th scope=col>&lt;int&gt;</th><th scope=col>&lt;int&gt;</th><th scope=col>&lt;int&gt;</th><th scope=col>&lt;int&gt;</th><th scope=col>&lt;int&gt;</th><th scope=col>&lt;int&gt;</th><th scope=col>&lt;int&gt;</th></tr>\n",
       "</thead>\n",
       "<tbody>\n",
       "\t<tr><td>2002</td><td>Control </td><td> 9</td><td> 9</td><td> 5</td><td>0</td><td>0</td><td>0</td><td>0</td><td>0</td><td>⋯</td><td>0</td><td>0</td><td>0</td><td>4</td><td>0</td><td>0</td><td>0</td><td>0</td><td>14</td><td>1</td></tr>\n",
       "\t<tr><td>2005</td><td>Control </td><td>12</td><td>10</td><td> 3</td><td>0</td><td>0</td><td>0</td><td>0</td><td>0</td><td>⋯</td><td>0</td><td>0</td><td>0</td><td>2</td><td>0</td><td>0</td><td>0</td><td>0</td><td>14</td><td>0</td></tr>\n",
       "\t<tr><td>2006</td><td>Glaucoma</td><td> 8</td><td> 6</td><td> 8</td><td>0</td><td>0</td><td>0</td><td>0</td><td>0</td><td>⋯</td><td>0</td><td>0</td><td>0</td><td>2</td><td>0</td><td>0</td><td>0</td><td>0</td><td> 5</td><td>0</td></tr>\n",
       "\t<tr><td>2007</td><td>Glaucoma</td><td> 5</td><td> 2</td><td> 0</td><td>0</td><td>0</td><td>0</td><td>0</td><td>0</td><td>⋯</td><td>0</td><td>0</td><td>0</td><td>0</td><td>0</td><td>0</td><td>0</td><td>0</td><td>12</td><td>0</td></tr>\n",
       "\t<tr><td>2008</td><td>Control </td><td> 7</td><td> 6</td><td> 5</td><td>0</td><td>0</td><td>0</td><td>0</td><td>0</td><td>⋯</td><td>0</td><td>0</td><td>0</td><td>7</td><td>0</td><td>0</td><td>0</td><td>0</td><td>10</td><td>0</td></tr>\n",
       "\t<tr><td>2009</td><td>Control </td><td>12</td><td>12</td><td> 9</td><td>0</td><td>0</td><td>0</td><td>0</td><td>2</td><td>⋯</td><td>0</td><td>0</td><td>0</td><td>6</td><td>0</td><td>2</td><td>0</td><td>0</td><td>17</td><td>2</td></tr>\n",
       "\t<tr><td>2013</td><td>Glaucoma</td><td> 6</td><td> 9</td><td> 8</td><td>2</td><td>0</td><td>0</td><td>0</td><td>0</td><td>⋯</td><td>0</td><td>0</td><td>0</td><td>1</td><td>0</td><td>2</td><td>0</td><td>0</td><td>11</td><td>0</td></tr>\n",
       "\t<tr><td>2014</td><td>Glaucoma</td><td> 4</td><td> 6</td><td> 0</td><td>0</td><td>0</td><td>0</td><td>0</td><td>0</td><td>⋯</td><td>0</td><td>0</td><td>0</td><td>5</td><td>0</td><td>0</td><td>0</td><td>0</td><td>10</td><td>0</td></tr>\n",
       "\t<tr><td>2015</td><td>Control </td><td> 9</td><td> 7</td><td>12</td><td>1</td><td>0</td><td>0</td><td>0</td><td>0</td><td>⋯</td><td>0</td><td>0</td><td>0</td><td>3</td><td>0</td><td>0</td><td>0</td><td>0</td><td>12</td><td>1</td></tr>\n",
       "\t<tr><td>2016</td><td>Control </td><td>11</td><td> 9</td><td> 7</td><td>0</td><td>0</td><td>0</td><td>0</td><td>0</td><td>⋯</td><td>0</td><td>0</td><td>0</td><td>0</td><td>0</td><td>0</td><td>0</td><td>0</td><td>11</td><td>0</td></tr>\n",
       "\t<tr><td>2017</td><td>Control </td><td> 8</td><td> 7</td><td> 3</td><td>0</td><td>0</td><td>0</td><td>0</td><td>0</td><td>⋯</td><td>0</td><td>0</td><td>0</td><td>0</td><td>0</td><td>0</td><td>0</td><td>0</td><td>15</td><td>2</td></tr>\n",
       "\t<tr><td>2018</td><td>Control </td><td> 6</td><td> 7</td><td> 3</td><td>0</td><td>0</td><td>0</td><td>0</td><td>0</td><td>⋯</td><td>0</td><td>0</td><td>0</td><td>2</td><td>0</td><td>0</td><td>0</td><td>0</td><td>13</td><td>0</td></tr>\n",
       "\t<tr><td>2020</td><td>Glaucoma</td><td>10</td><td> 7</td><td> 6</td><td>1</td><td>0</td><td>0</td><td>0</td><td>0</td><td>⋯</td><td>0</td><td>0</td><td>0</td><td>2</td><td>0</td><td>0</td><td>0</td><td>0</td><td> 7</td><td>0</td></tr>\n",
       "\t<tr><td>2021</td><td>Glaucoma</td><td> 4</td><td> 3</td><td> 6</td><td>2</td><td>0</td><td>0</td><td>0</td><td>0</td><td>⋯</td><td>0</td><td>0</td><td>0</td><td>3</td><td>0</td><td>0</td><td>0</td><td>0</td><td>13</td><td>2</td></tr>\n",
       "\t<tr><td>2024</td><td>Control </td><td>13</td><td>14</td><td> 7</td><td>2</td><td>0</td><td>0</td><td>0</td><td>0</td><td>⋯</td><td>0</td><td>0</td><td>0</td><td>7</td><td>0</td><td>0</td><td>0</td><td>0</td><td>14</td><td>4</td></tr>\n",
       "\t<tr><td>2025</td><td>Glaucoma</td><td>11</td><td> 8</td><td> 6</td><td>0</td><td>0</td><td>0</td><td>0</td><td>0</td><td>⋯</td><td>0</td><td>0</td><td>0</td><td>2</td><td>0</td><td>0</td><td>0</td><td>0</td><td>14</td><td>0</td></tr>\n",
       "</tbody>\n",
       "</table>\n"
      ],
      "text/latex": [
       "A tibble: 16 × 246\n",
       "\\begin{tabular}{lllllllllllllllllllll}\n",
       " PID & Group & Building\\_100 & Building\\_101 & Building\\_102 & Building\\_103 & Building\\_104 & Building\\_105 & Building\\_106 & Building\\_107 & ⋯ & TaskBuilding\\_53 & TaskBuilding\\_54 & TaskBuilding\\_55 & TaskBuilding\\_6 & TaskBuilding\\_7 & TaskBuilding\\_8 & TaskBuilding\\_9 & Windmill-TaskBuilding\\_10\\_1 & crane\\_1 & crane\\_2\\\\\n",
       " <fct> & <fct> & <int> & <int> & <int> & <int> & <int> & <int> & <int> & <int> & ⋯ & <int> & <int> & <int> & <int> & <int> & <int> & <int> & <int> & <int> & <int>\\\\\n",
       "\\hline\n",
       "\t 2002 & Control  &  9 &  9 &  5 & 0 & 0 & 0 & 0 & 0 & ⋯ & 0 & 0 & 0 & 4 & 0 & 0 & 0 & 0 & 14 & 1\\\\\n",
       "\t 2005 & Control  & 12 & 10 &  3 & 0 & 0 & 0 & 0 & 0 & ⋯ & 0 & 0 & 0 & 2 & 0 & 0 & 0 & 0 & 14 & 0\\\\\n",
       "\t 2006 & Glaucoma &  8 &  6 &  8 & 0 & 0 & 0 & 0 & 0 & ⋯ & 0 & 0 & 0 & 2 & 0 & 0 & 0 & 0 &  5 & 0\\\\\n",
       "\t 2007 & Glaucoma &  5 &  2 &  0 & 0 & 0 & 0 & 0 & 0 & ⋯ & 0 & 0 & 0 & 0 & 0 & 0 & 0 & 0 & 12 & 0\\\\\n",
       "\t 2008 & Control  &  7 &  6 &  5 & 0 & 0 & 0 & 0 & 0 & ⋯ & 0 & 0 & 0 & 7 & 0 & 0 & 0 & 0 & 10 & 0\\\\\n",
       "\t 2009 & Control  & 12 & 12 &  9 & 0 & 0 & 0 & 0 & 2 & ⋯ & 0 & 0 & 0 & 6 & 0 & 2 & 0 & 0 & 17 & 2\\\\\n",
       "\t 2013 & Glaucoma &  6 &  9 &  8 & 2 & 0 & 0 & 0 & 0 & ⋯ & 0 & 0 & 0 & 1 & 0 & 2 & 0 & 0 & 11 & 0\\\\\n",
       "\t 2014 & Glaucoma &  4 &  6 &  0 & 0 & 0 & 0 & 0 & 0 & ⋯ & 0 & 0 & 0 & 5 & 0 & 0 & 0 & 0 & 10 & 0\\\\\n",
       "\t 2015 & Control  &  9 &  7 & 12 & 1 & 0 & 0 & 0 & 0 & ⋯ & 0 & 0 & 0 & 3 & 0 & 0 & 0 & 0 & 12 & 1\\\\\n",
       "\t 2016 & Control  & 11 &  9 &  7 & 0 & 0 & 0 & 0 & 0 & ⋯ & 0 & 0 & 0 & 0 & 0 & 0 & 0 & 0 & 11 & 0\\\\\n",
       "\t 2017 & Control  &  8 &  7 &  3 & 0 & 0 & 0 & 0 & 0 & ⋯ & 0 & 0 & 0 & 0 & 0 & 0 & 0 & 0 & 15 & 2\\\\\n",
       "\t 2018 & Control  &  6 &  7 &  3 & 0 & 0 & 0 & 0 & 0 & ⋯ & 0 & 0 & 0 & 2 & 0 & 0 & 0 & 0 & 13 & 0\\\\\n",
       "\t 2020 & Glaucoma & 10 &  7 &  6 & 1 & 0 & 0 & 0 & 0 & ⋯ & 0 & 0 & 0 & 2 & 0 & 0 & 0 & 0 &  7 & 0\\\\\n",
       "\t 2021 & Glaucoma &  4 &  3 &  6 & 2 & 0 & 0 & 0 & 0 & ⋯ & 0 & 0 & 0 & 3 & 0 & 0 & 0 & 0 & 13 & 2\\\\\n",
       "\t 2024 & Control  & 13 & 14 &  7 & 2 & 0 & 0 & 0 & 0 & ⋯ & 0 & 0 & 0 & 7 & 0 & 0 & 0 & 0 & 14 & 4\\\\\n",
       "\t 2025 & Glaucoma & 11 &  8 &  6 & 0 & 0 & 0 & 0 & 0 & ⋯ & 0 & 0 & 0 & 2 & 0 & 0 & 0 & 0 & 14 & 0\\\\\n",
       "\\end{tabular}\n"
      ],
      "text/markdown": [
       "\n",
       "A tibble: 16 × 246\n",
       "\n",
       "| PID &lt;fct&gt; | Group &lt;fct&gt; | Building_100 &lt;int&gt; | Building_101 &lt;int&gt; | Building_102 &lt;int&gt; | Building_103 &lt;int&gt; | Building_104 &lt;int&gt; | Building_105 &lt;int&gt; | Building_106 &lt;int&gt; | Building_107 &lt;int&gt; | ⋯ ⋯ | TaskBuilding_53 &lt;int&gt; | TaskBuilding_54 &lt;int&gt; | TaskBuilding_55 &lt;int&gt; | TaskBuilding_6 &lt;int&gt; | TaskBuilding_7 &lt;int&gt; | TaskBuilding_8 &lt;int&gt; | TaskBuilding_9 &lt;int&gt; | Windmill-TaskBuilding_10_1 &lt;int&gt; | crane_1 &lt;int&gt; | crane_2 &lt;int&gt; |\n",
       "|---|---|---|---|---|---|---|---|---|---|---|---|---|---|---|---|---|---|---|---|---|\n",
       "| 2002 | Control  |  9 |  9 |  5 | 0 | 0 | 0 | 0 | 0 | ⋯ | 0 | 0 | 0 | 4 | 0 | 0 | 0 | 0 | 14 | 1 |\n",
       "| 2005 | Control  | 12 | 10 |  3 | 0 | 0 | 0 | 0 | 0 | ⋯ | 0 | 0 | 0 | 2 | 0 | 0 | 0 | 0 | 14 | 0 |\n",
       "| 2006 | Glaucoma |  8 |  6 |  8 | 0 | 0 | 0 | 0 | 0 | ⋯ | 0 | 0 | 0 | 2 | 0 | 0 | 0 | 0 |  5 | 0 |\n",
       "| 2007 | Glaucoma |  5 |  2 |  0 | 0 | 0 | 0 | 0 | 0 | ⋯ | 0 | 0 | 0 | 0 | 0 | 0 | 0 | 0 | 12 | 0 |\n",
       "| 2008 | Control  |  7 |  6 |  5 | 0 | 0 | 0 | 0 | 0 | ⋯ | 0 | 0 | 0 | 7 | 0 | 0 | 0 | 0 | 10 | 0 |\n",
       "| 2009 | Control  | 12 | 12 |  9 | 0 | 0 | 0 | 0 | 2 | ⋯ | 0 | 0 | 0 | 6 | 0 | 2 | 0 | 0 | 17 | 2 |\n",
       "| 2013 | Glaucoma |  6 |  9 |  8 | 2 | 0 | 0 | 0 | 0 | ⋯ | 0 | 0 | 0 | 1 | 0 | 2 | 0 | 0 | 11 | 0 |\n",
       "| 2014 | Glaucoma |  4 |  6 |  0 | 0 | 0 | 0 | 0 | 0 | ⋯ | 0 | 0 | 0 | 5 | 0 | 0 | 0 | 0 | 10 | 0 |\n",
       "| 2015 | Control  |  9 |  7 | 12 | 1 | 0 | 0 | 0 | 0 | ⋯ | 0 | 0 | 0 | 3 | 0 | 0 | 0 | 0 | 12 | 1 |\n",
       "| 2016 | Control  | 11 |  9 |  7 | 0 | 0 | 0 | 0 | 0 | ⋯ | 0 | 0 | 0 | 0 | 0 | 0 | 0 | 0 | 11 | 0 |\n",
       "| 2017 | Control  |  8 |  7 |  3 | 0 | 0 | 0 | 0 | 0 | ⋯ | 0 | 0 | 0 | 0 | 0 | 0 | 0 | 0 | 15 | 2 |\n",
       "| 2018 | Control  |  6 |  7 |  3 | 0 | 0 | 0 | 0 | 0 | ⋯ | 0 | 0 | 0 | 2 | 0 | 0 | 0 | 0 | 13 | 0 |\n",
       "| 2020 | Glaucoma | 10 |  7 |  6 | 1 | 0 | 0 | 0 | 0 | ⋯ | 0 | 0 | 0 | 2 | 0 | 0 | 0 | 0 |  7 | 0 |\n",
       "| 2021 | Glaucoma |  4 |  3 |  6 | 2 | 0 | 0 | 0 | 0 | ⋯ | 0 | 0 | 0 | 3 | 0 | 0 | 0 | 0 | 13 | 2 |\n",
       "| 2024 | Control  | 13 | 14 |  7 | 2 | 0 | 0 | 0 | 0 | ⋯ | 0 | 0 | 0 | 7 | 0 | 0 | 0 | 0 | 14 | 4 |\n",
       "| 2025 | Glaucoma | 11 |  8 |  6 | 0 | 0 | 0 | 0 | 0 | ⋯ | 0 | 0 | 0 | 2 | 0 | 0 | 0 | 0 | 14 | 0 |\n",
       "\n"
      ],
      "text/plain": [
       "   PID  Group    Building_100 Building_101 Building_102 Building_103\n",
       "1  2002 Control   9            9            5           0           \n",
       "2  2005 Control  12           10            3           0           \n",
       "3  2006 Glaucoma  8            6            8           0           \n",
       "4  2007 Glaucoma  5            2            0           0           \n",
       "5  2008 Control   7            6            5           0           \n",
       "6  2009 Control  12           12            9           0           \n",
       "7  2013 Glaucoma  6            9            8           2           \n",
       "8  2014 Glaucoma  4            6            0           0           \n",
       "9  2015 Control   9            7           12           1           \n",
       "10 2016 Control  11            9            7           0           \n",
       "11 2017 Control   8            7            3           0           \n",
       "12 2018 Control   6            7            3           0           \n",
       "13 2020 Glaucoma 10            7            6           1           \n",
       "14 2021 Glaucoma  4            3            6           2           \n",
       "15 2024 Control  13           14            7           2           \n",
       "16 2025 Glaucoma 11            8            6           0           \n",
       "   Building_104 Building_105 Building_106 Building_107 ⋯ TaskBuilding_53\n",
       "1  0            0            0            0            ⋯ 0              \n",
       "2  0            0            0            0            ⋯ 0              \n",
       "3  0            0            0            0            ⋯ 0              \n",
       "4  0            0            0            0            ⋯ 0              \n",
       "5  0            0            0            0            ⋯ 0              \n",
       "6  0            0            0            2            ⋯ 0              \n",
       "7  0            0            0            0            ⋯ 0              \n",
       "8  0            0            0            0            ⋯ 0              \n",
       "9  0            0            0            0            ⋯ 0              \n",
       "10 0            0            0            0            ⋯ 0              \n",
       "11 0            0            0            0            ⋯ 0              \n",
       "12 0            0            0            0            ⋯ 0              \n",
       "13 0            0            0            0            ⋯ 0              \n",
       "14 0            0            0            0            ⋯ 0              \n",
       "15 0            0            0            0            ⋯ 0              \n",
       "16 0            0            0            0            ⋯ 0              \n",
       "   TaskBuilding_54 TaskBuilding_55 TaskBuilding_6 TaskBuilding_7 TaskBuilding_8\n",
       "1  0               0               4              0              0             \n",
       "2  0               0               2              0              0             \n",
       "3  0               0               2              0              0             \n",
       "4  0               0               0              0              0             \n",
       "5  0               0               7              0              0             \n",
       "6  0               0               6              0              2             \n",
       "7  0               0               1              0              2             \n",
       "8  0               0               5              0              0             \n",
       "9  0               0               3              0              0             \n",
       "10 0               0               0              0              0             \n",
       "11 0               0               0              0              0             \n",
       "12 0               0               2              0              0             \n",
       "13 0               0               2              0              0             \n",
       "14 0               0               3              0              0             \n",
       "15 0               0               7              0              0             \n",
       "16 0               0               2              0              0             \n",
       "   TaskBuilding_9 Windmill-TaskBuilding_10_1 crane_1 crane_2\n",
       "1  0              0                          14      1      \n",
       "2  0              0                          14      0      \n",
       "3  0              0                           5      0      \n",
       "4  0              0                          12      0      \n",
       "5  0              0                          10      0      \n",
       "6  0              0                          17      2      \n",
       "7  0              0                          11      0      \n",
       "8  0              0                          10      0      \n",
       "9  0              0                          12      1      \n",
       "10 0              0                          11      0      \n",
       "11 0              0                          15      2      \n",
       "12 0              0                          13      0      \n",
       "13 0              0                           7      0      \n",
       "14 0              0                          13      2      \n",
       "15 0              0                          14      4      \n",
       "16 0              0                          14      0      "
      ]
     },
     "metadata": {},
     "output_type": "display_data"
    }
   ],
   "source": [
    "g_table"
   ]
  },
  {
   "cell_type": "code",
   "execution_count": 11,
   "id": "48adb3a7-df79-4288-9372-0f9fb78a56f7",
   "metadata": {},
   "outputs": [],
   "source": [
    "g_table_longer <- g_table %>% pivot_longer(!PID & !Group, names_to = \"Building_Name\", values_to = \"Degree\") %>% mutate(Building_Name = factor(Building_Name))"
   ]
  },
  {
   "cell_type": "code",
   "execution_count": 12,
   "id": "a2f0194c-b91f-4579-bf92-33d090ae1077",
   "metadata": {},
   "outputs": [
    {
     "name": "stderr",
     "output_type": "stream",
     "text": [
      "Loading required package: sysfonts\n",
      "\n",
      "Loading required package: showtextdb\n",
      "\n"
     ]
    }
   ],
   "source": [
    "library(showtext)\n",
    "font_add_google(\"Lato\", \"lato\")\n",
    "showtext_auto()"
   ]
  },
  {
   "cell_type": "code",
   "execution_count": 13,
   "id": "d454a9f7-55c6-4ef4-b3c3-a690b31bcbd3",
   "metadata": {},
   "outputs": [
    {
     "name": "stdout",
     "output_type": "stream",
     "text": [
      "httpgd server running at:\n",
      "  http://127.0.0.1:43531/live?token=UhQIcMPG\n"
     ]
    }
   ],
   "source": [
    "library(httpgd)\n",
    "hgd()"
   ]
  },
  {
   "cell_type": "code",
   "execution_count": 17,
   "id": "3b9e2b6d-3978-4227-b011-9edaee9e1404",
   "metadata": {},
   "outputs": [
    {
     "data": {
      "image/png": "[encoded data removed]",
      "text/plain": [
       "plot without title"
      ]
     },
     "metadata": {
      "image/png": {
       "height": 420,
       "width": 420
      }
     },
     "output_type": "display_data"
    }
   ],
   "source": [
    "g_table_longer %>% ggplot(aes(x = Building_Name, y = \"Degree\", group = Group, color = Group)) + geom_point()"
   ]
  },
  {
   "cell_type": "code",
   "execution_count": null,
   "id": "b2766f69-54f2-4da9-9558-8632f8e0f643",
   "metadata": {},
   "outputs": [],
   "source": []
  },
  {
   "cell_type": "code",
   "execution_count": 15,
   "id": "c555705b-249a-455d-9069-b9c3f4acaf78",
   "metadata": {},
   "outputs": [
    {
     "data": {
      "text/html": [
       "<style>\n",
       ".dl-inline {width: auto; margin:0; padding: 0}\n",
       ".dl-inline>dt, .dl-inline>dd {float: none; width: auto; display: inline-block}\n",
       ".dl-inline>dt::after {content: \":\\0020\"; padding-right: .5ex}\n",
       ".dl-inline>dt:not(:first-of-type) {padding-left: .5ex}\n",
       "</style><dl class=dl-inline><dt>PNG</dt><dd>2</dd><dt>unigd</dt><dd>3</dd></dl>\n"
      ],
      "text/latex": [
       "\\begin{description*}\n",
       "\\item[PNG] 2\n",
       "\\item[unigd] 3\n",
       "\\end{description*}\n"
      ],
      "text/markdown": [
       "PNG\n",
       ":   2unigd\n",
       ":   3\n",
       "\n"
      ],
      "text/plain": [
       "  PNG unigd \n",
       "    2     3 "
      ]
     },
     "metadata": {},
     "output_type": "display_data"
    }
   ],
   "source": [
    "dev.list()"
   ]
  },
  {
   "cell_type": "code",
   "execution_count": 16,
   "id": "8605cfb2-f745-4fb1-bddb-70d69fa3ad57",
   "metadata": {},
   "outputs": [
    {
     "data": {
      "text/html": [
       "<strong>PNG:</strong> 2"
      ],
      "text/latex": [
       "\\textbf{PNG:} 2"
      ],
      "text/markdown": [
       "**PNG:** 2"
      ],
      "text/plain": [
       "PNG \n",
       "  2 "
      ]
     },
     "metadata": {},
     "output_type": "display_data"
    }
   ],
   "source": [
    "dev.cur()"
   ]
  },
  {
   "cell_type": "code",
   "execution_count": null,
   "id": "eb88ceb5-59a7-4edb-bb42-41aab04795ae",
   "metadata": {},
   "outputs": [],
   "source": []
  }
 ],
 "metadata": {
  "kernelspec": {
   "display_name": "R",
   "language": "R",
   "name": "ir"
  },
  "language_info": {
   "codemirror_mode": "r",
   "file_extension": ".r",
   "mimetype": "text/x-r-source",
   "name": "R",
   "pygments_lexer": "r",
   "version": "4.3.1"
  }
 },
 "nbformat": 4,
 "nbformat_minor": 5
}
